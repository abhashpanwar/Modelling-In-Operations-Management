{
  "nbformat": 4,
  "nbformat_minor": 0,
  "metadata": {
    "colab": {
      "name": "OM Pro1 (File:2).ipynb",
      "provenance": [],
      "collapsed_sections": [],
      "toc_visible": true,
      "include_colab_link": true
    },
    "kernelspec": {
      "name": "python3",
      "display_name": "Python 3"
    }
  },
  "cells": [
    {
      "cell_type": "markdown",
      "metadata": {
        "id": "view-in-github",
        "colab_type": "text"
      },
      "source": [
        "<a href=\"https://colab.research.google.com/github/abhashpanwar/Modelling-In-Operations-Management/blob/master/OM_Pro1_(File_2).ipynb\" target=\"_parent\"><img src=\"https://colab.research.google.com/assets/colab-badge.svg\" alt=\"Open In Colab\"/></a>"
      ]
    },
    {
      "cell_type": "markdown",
      "metadata": {
        "id": "1zxZkzQJ2GCu",
        "colab_type": "text"
      },
      "source": [
        "## Mount Google Drive"
      ]
    },
    {
      "cell_type": "code",
      "metadata": {
        "id": "AemjLD8xn9Qh",
        "colab_type": "code",
        "colab": {
          "base_uri": "https://localhost:8080/",
          "height": 54
        },
        "outputId": "a0dddfb5-5f77-43f4-d59b-277db24949b0"
      },
      "source": [
        "from google.colab import drive\n",
        "drive.mount('/content/gdrive')"
      ],
      "execution_count": 1,
      "outputs": [
        {
          "output_type": "stream",
          "text": [
            "Drive already mounted at /content/gdrive; to attempt to forcibly remount, call drive.mount(\"/content/gdrive\", force_remount=True).\n"
          ],
          "name": "stdout"
        }
      ]
    },
    {
      "cell_type": "code",
      "metadata": {
        "id": "XPUg18slqGd4",
        "colab_type": "code",
        "colab": {
          "base_uri": "https://localhost:8080/",
          "height": 34
        },
        "outputId": "91a9540c-9dcb-4a25-9ed5-556910e5a53e"
      },
      "source": [
        "%cd /content/gdrive"
      ],
      "execution_count": 2,
      "outputs": [
        {
          "output_type": "stream",
          "text": [
            "/content/gdrive\n"
          ],
          "name": "stdout"
        }
      ]
    },
    {
      "cell_type": "code",
      "metadata": {
        "id": "PYBIAY3OrbEl",
        "colab_type": "code",
        "colab": {}
      },
      "source": [
        "#!ls \"/content/gdrive/My Drive/modelling-project-research-papers/rossmann-store-sales/\""
      ],
      "execution_count": 3,
      "outputs": []
    },
    {
      "cell_type": "markdown",
      "metadata": {
        "id": "DuZg-58e2MHX",
        "colab_type": "text"
      },
      "source": [
        "## Import Libraries"
      ]
    },
    {
      "cell_type": "code",
      "metadata": {
        "id": "ifhv1Kuqt6tU",
        "colab_type": "code",
        "colab": {}
      },
      "source": [
        "import pandas as pd\n",
        "import numpy as np\n",
        "\n",
        "import matplotlib.pyplot as plt\n",
        "from sklearn.impute import SimpleImputer\n",
        "from sklearn.experimental import enable_iterative_imputer  \n",
        "from sklearn.impute import IterativeImputer\n",
        "from sklearn.linear_model import BayesianRidge\n",
        "from sklearn.tree import DecisionTreeRegressor\n",
        "from sklearn.ensemble import ExtraTreesRegressor\n",
        "from sklearn.neighbors import KNeighborsRegressor\n",
        "from sklearn.pipeline import make_pipeline\n",
        "from sklearn.model_selection import cross_val_score"
      ],
      "execution_count": 4,
      "outputs": []
    },
    {
      "cell_type": "markdown",
      "metadata": {
        "id": "AbtH7vRQ1q-W",
        "colab_type": "text"
      },
      "source": [
        "## Load Data Set"
      ]
    },
    {
      "cell_type": "code",
      "metadata": {
        "id": "qH1xFPaJ2KNV",
        "colab_type": "code",
        "colab": {}
      },
      "source": [
        "rossmann_dataset_path= '/content/gdrive/My Drive/modelling-project-research-papers/rossmann-store-sales/'\n",
        "rossmann_train='train.csv'\n",
        "rossmann_test='test.csv'\n",
        "rossmann_sample='sample_submission.csv'\n",
        "rossmann_store='store.csv'"
      ],
      "execution_count": 5,
      "outputs": []
    },
    {
      "cell_type": "code",
      "metadata": {
        "id": "UKxS3cOVq1Dg",
        "colab_type": "code",
        "colab": {
          "base_uri": "https://localhost:8080/",
          "height": 170
        },
        "outputId": "7bf20054-65dd-4528-97c7-ffa39a45fa6c"
      },
      "source": [
        "#training \n",
        "df_train=pd.read_csv(rossmann_dataset_path+rossmann_train,low_memory=False)\n",
        "print(df_train.shape)\n",
        "print(df_train.head())"
      ],
      "execution_count": 6,
      "outputs": [
        {
          "output_type": "stream",
          "text": [
            "(1017209, 9)\n",
            "   Store  DayOfWeek        Date  Sales  ...  Open  Promo  StateHoliday SchoolHoliday\n",
            "0      1          5  2015-07-31   5263  ...     1      1             0             1\n",
            "1      2          5  2015-07-31   6064  ...     1      1             0             1\n",
            "2      3          5  2015-07-31   8314  ...     1      1             0             1\n",
            "3      4          5  2015-07-31  13995  ...     1      1             0             1\n",
            "4      5          5  2015-07-31   4822  ...     1      1             0             1\n",
            "\n",
            "[5 rows x 9 columns]\n"
          ],
          "name": "stdout"
        }
      ]
    },
    {
      "cell_type": "code",
      "metadata": {
        "id": "JpjNo_kSw89P",
        "colab_type": "code",
        "colab": {
          "base_uri": "https://localhost:8080/",
          "height": 170
        },
        "outputId": "8151c416-ec91-49f1-8d17-224f12a91ac1"
      },
      "source": [
        "#testing\n",
        "df_test=pd.read_csv(rossmann_dataset_path+rossmann_test,low_memory=False)\n",
        "print(df_test.shape)\n",
        "print(df_train.head())"
      ],
      "execution_count": 7,
      "outputs": [
        {
          "output_type": "stream",
          "text": [
            "(41088, 8)\n",
            "   Store  DayOfWeek        Date  Sales  ...  Open  Promo  StateHoliday SchoolHoliday\n",
            "0      1          5  2015-07-31   5263  ...     1      1             0             1\n",
            "1      2          5  2015-07-31   6064  ...     1      1             0             1\n",
            "2      3          5  2015-07-31   8314  ...     1      1             0             1\n",
            "3      4          5  2015-07-31  13995  ...     1      1             0             1\n",
            "4      5          5  2015-07-31   4822  ...     1      1             0             1\n",
            "\n",
            "[5 rows x 9 columns]\n"
          ],
          "name": "stdout"
        }
      ]
    },
    {
      "cell_type": "code",
      "metadata": {
        "id": "_WfQmqAjye5K",
        "colab_type": "code",
        "colab": {}
      },
      "source": [
        "\"\"\"#testing\n",
        "df_test=pd.read_csv(rossmann_dataset_path+rossmann_test,low_memory=False)\n",
        "print(df_test.shape)\n",
        "print((df_test.isna().sum()/len(df_test))*100)\n",
        "#putting 0 inplace where the value is missing\n",
        "dff=df_test[['Open']]\n",
        "dff=dff.fillna('0')\n",
        "#dff.shape\"\"\";"
      ],
      "execution_count": 8,
      "outputs": []
    },
    {
      "cell_type": "code",
      "metadata": {
        "id": "D14aSQRGRU8T",
        "colab_type": "code",
        "colab": {
          "base_uri": "https://localhost:8080/",
          "height": 170
        },
        "outputId": "f30e92ae-e45a-4a16-84b5-dc21c524273a"
      },
      "source": [
        "#store dataset\n",
        "df_store=pd.read_csv(rossmann_dataset_path+rossmann_store,low_memory=False)\n",
        "#df=df_store.copy()\n",
        "print(df_store.shape)\n",
        "print(df_store.head())\n",
        "#print((df_store.isnull().sum()/len(df_store))*100) "
      ],
      "execution_count": 9,
      "outputs": [
        {
          "output_type": "stream",
          "text": [
            "(1115, 10)\n",
            "   Store StoreType  ... Promo2SinceYear    PromoInterval\n",
            "0      1         c  ...             NaN              NaN\n",
            "1      2         a  ...          2010.0  Jan,Apr,Jul,Oct\n",
            "2      3         a  ...          2011.0  Jan,Apr,Jul,Oct\n",
            "3      4         c  ...             NaN              NaN\n",
            "4      5         a  ...             NaN              NaN\n",
            "\n",
            "[5 rows x 10 columns]\n"
          ],
          "name": "stdout"
        }
      ]
    },
    {
      "cell_type": "markdown",
      "metadata": {
        "id": "n1sbSpZhhNj2",
        "colab_type": "text"
      },
      "source": [
        "# Handling Missing Values "
      ]
    },
    {
      "cell_type": "markdown",
      "metadata": {
        "id": "2IGuRiOYxU1r",
        "colab_type": "text"
      },
      "source": [
        "### Check Missing Values"
      ]
    },
    {
      "cell_type": "code",
      "metadata": {
        "id": "5CcyDxT1xqXL",
        "colab_type": "code",
        "colab": {
          "base_uri": "https://localhost:8080/",
          "height": 345
        },
        "outputId": "4f73627b-4936-476f-8a8f-c9812eb4204b"
      },
      "source": [
        "print(df_train.shape)\n",
        "pd.DataFrame(data={'no. of missing values':df_train.isnull().sum(),'%':round((df_train.isnull().sum()/len(df_train))*100,4)})"
      ],
      "execution_count": 10,
      "outputs": [
        {
          "output_type": "stream",
          "text": [
            "(1017209, 9)\n"
          ],
          "name": "stdout"
        },
        {
          "output_type": "execute_result",
          "data": {
            "text/html": [
              "<div>\n",
              "<style scoped>\n",
              "    .dataframe tbody tr th:only-of-type {\n",
              "        vertical-align: middle;\n",
              "    }\n",
              "\n",
              "    .dataframe tbody tr th {\n",
              "        vertical-align: top;\n",
              "    }\n",
              "\n",
              "    .dataframe thead th {\n",
              "        text-align: right;\n",
              "    }\n",
              "</style>\n",
              "<table border=\"1\" class=\"dataframe\">\n",
              "  <thead>\n",
              "    <tr style=\"text-align: right;\">\n",
              "      <th></th>\n",
              "      <th>no. of missing values</th>\n",
              "      <th>%</th>\n",
              "    </tr>\n",
              "  </thead>\n",
              "  <tbody>\n",
              "    <tr>\n",
              "      <th>Store</th>\n",
              "      <td>0</td>\n",
              "      <td>0.0</td>\n",
              "    </tr>\n",
              "    <tr>\n",
              "      <th>DayOfWeek</th>\n",
              "      <td>0</td>\n",
              "      <td>0.0</td>\n",
              "    </tr>\n",
              "    <tr>\n",
              "      <th>Date</th>\n",
              "      <td>0</td>\n",
              "      <td>0.0</td>\n",
              "    </tr>\n",
              "    <tr>\n",
              "      <th>Sales</th>\n",
              "      <td>0</td>\n",
              "      <td>0.0</td>\n",
              "    </tr>\n",
              "    <tr>\n",
              "      <th>Customers</th>\n",
              "      <td>0</td>\n",
              "      <td>0.0</td>\n",
              "    </tr>\n",
              "    <tr>\n",
              "      <th>Open</th>\n",
              "      <td>0</td>\n",
              "      <td>0.0</td>\n",
              "    </tr>\n",
              "    <tr>\n",
              "      <th>Promo</th>\n",
              "      <td>0</td>\n",
              "      <td>0.0</td>\n",
              "    </tr>\n",
              "    <tr>\n",
              "      <th>StateHoliday</th>\n",
              "      <td>0</td>\n",
              "      <td>0.0</td>\n",
              "    </tr>\n",
              "    <tr>\n",
              "      <th>SchoolHoliday</th>\n",
              "      <td>0</td>\n",
              "      <td>0.0</td>\n",
              "    </tr>\n",
              "  </tbody>\n",
              "</table>\n",
              "</div>"
            ],
            "text/plain": [
              "               no. of missing values    %\n",
              "Store                              0  0.0\n",
              "DayOfWeek                          0  0.0\n",
              "Date                               0  0.0\n",
              "Sales                              0  0.0\n",
              "Customers                          0  0.0\n",
              "Open                               0  0.0\n",
              "Promo                              0  0.0\n",
              "StateHoliday                       0  0.0\n",
              "SchoolHoliday                      0  0.0"
            ]
          },
          "metadata": {
            "tags": []
          },
          "execution_count": 10
        }
      ]
    },
    {
      "cell_type": "code",
      "metadata": {
        "id": "ro_Rcf98yBLv",
        "colab_type": "code",
        "colab": {
          "base_uri": "https://localhost:8080/",
          "height": 314
        },
        "outputId": "54c7b35a-e62d-4cd9-be2f-215300bf2e33"
      },
      "source": [
        "print(df_test.shape)\n",
        "pd.DataFrame(data={'no. of missing values':df_test.isnull().sum(),'%':round((df_test.isnull().sum()/len(df_test))*100,4)})"
      ],
      "execution_count": 11,
      "outputs": [
        {
          "output_type": "stream",
          "text": [
            "(41088, 8)\n"
          ],
          "name": "stdout"
        },
        {
          "output_type": "execute_result",
          "data": {
            "text/html": [
              "<div>\n",
              "<style scoped>\n",
              "    .dataframe tbody tr th:only-of-type {\n",
              "        vertical-align: middle;\n",
              "    }\n",
              "\n",
              "    .dataframe tbody tr th {\n",
              "        vertical-align: top;\n",
              "    }\n",
              "\n",
              "    .dataframe thead th {\n",
              "        text-align: right;\n",
              "    }\n",
              "</style>\n",
              "<table border=\"1\" class=\"dataframe\">\n",
              "  <thead>\n",
              "    <tr style=\"text-align: right;\">\n",
              "      <th></th>\n",
              "      <th>no. of missing values</th>\n",
              "      <th>%</th>\n",
              "    </tr>\n",
              "  </thead>\n",
              "  <tbody>\n",
              "    <tr>\n",
              "      <th>Id</th>\n",
              "      <td>0</td>\n",
              "      <td>0.0000</td>\n",
              "    </tr>\n",
              "    <tr>\n",
              "      <th>Store</th>\n",
              "      <td>0</td>\n",
              "      <td>0.0000</td>\n",
              "    </tr>\n",
              "    <tr>\n",
              "      <th>DayOfWeek</th>\n",
              "      <td>0</td>\n",
              "      <td>0.0000</td>\n",
              "    </tr>\n",
              "    <tr>\n",
              "      <th>Date</th>\n",
              "      <td>0</td>\n",
              "      <td>0.0000</td>\n",
              "    </tr>\n",
              "    <tr>\n",
              "      <th>Open</th>\n",
              "      <td>11</td>\n",
              "      <td>0.0268</td>\n",
              "    </tr>\n",
              "    <tr>\n",
              "      <th>Promo</th>\n",
              "      <td>0</td>\n",
              "      <td>0.0000</td>\n",
              "    </tr>\n",
              "    <tr>\n",
              "      <th>StateHoliday</th>\n",
              "      <td>0</td>\n",
              "      <td>0.0000</td>\n",
              "    </tr>\n",
              "    <tr>\n",
              "      <th>SchoolHoliday</th>\n",
              "      <td>0</td>\n",
              "      <td>0.0000</td>\n",
              "    </tr>\n",
              "  </tbody>\n",
              "</table>\n",
              "</div>"
            ],
            "text/plain": [
              "               no. of missing values       %\n",
              "Id                                 0  0.0000\n",
              "Store                              0  0.0000\n",
              "DayOfWeek                          0  0.0000\n",
              "Date                               0  0.0000\n",
              "Open                              11  0.0268\n",
              "Promo                              0  0.0000\n",
              "StateHoliday                       0  0.0000\n",
              "SchoolHoliday                      0  0.0000"
            ]
          },
          "metadata": {
            "tags": []
          },
          "execution_count": 11
        }
      ]
    },
    {
      "cell_type": "code",
      "metadata": {
        "id": "yjhUPkeqyYxI",
        "colab_type": "code",
        "colab": {
          "base_uri": "https://localhost:8080/",
          "height": 376
        },
        "outputId": "a68054eb-bcc1-47e4-b8ed-ae948d45851b"
      },
      "source": [
        "print(df_store.shape)\n",
        "pd.DataFrame(data={'no. of missing values':df_store.isnull().sum(),'%':round((df_store.isnull().sum()/len(df_store))*100,4)})"
      ],
      "execution_count": 12,
      "outputs": [
        {
          "output_type": "stream",
          "text": [
            "(1115, 10)\n"
          ],
          "name": "stdout"
        },
        {
          "output_type": "execute_result",
          "data": {
            "text/html": [
              "<div>\n",
              "<style scoped>\n",
              "    .dataframe tbody tr th:only-of-type {\n",
              "        vertical-align: middle;\n",
              "    }\n",
              "\n",
              "    .dataframe tbody tr th {\n",
              "        vertical-align: top;\n",
              "    }\n",
              "\n",
              "    .dataframe thead th {\n",
              "        text-align: right;\n",
              "    }\n",
              "</style>\n",
              "<table border=\"1\" class=\"dataframe\">\n",
              "  <thead>\n",
              "    <tr style=\"text-align: right;\">\n",
              "      <th></th>\n",
              "      <th>no. of missing values</th>\n",
              "      <th>%</th>\n",
              "    </tr>\n",
              "  </thead>\n",
              "  <tbody>\n",
              "    <tr>\n",
              "      <th>Store</th>\n",
              "      <td>0</td>\n",
              "      <td>0.0000</td>\n",
              "    </tr>\n",
              "    <tr>\n",
              "      <th>StoreType</th>\n",
              "      <td>0</td>\n",
              "      <td>0.0000</td>\n",
              "    </tr>\n",
              "    <tr>\n",
              "      <th>Assortment</th>\n",
              "      <td>0</td>\n",
              "      <td>0.0000</td>\n",
              "    </tr>\n",
              "    <tr>\n",
              "      <th>CompetitionDistance</th>\n",
              "      <td>3</td>\n",
              "      <td>0.2691</td>\n",
              "    </tr>\n",
              "    <tr>\n",
              "      <th>CompetitionOpenSinceMonth</th>\n",
              "      <td>354</td>\n",
              "      <td>31.7489</td>\n",
              "    </tr>\n",
              "    <tr>\n",
              "      <th>CompetitionOpenSinceYear</th>\n",
              "      <td>354</td>\n",
              "      <td>31.7489</td>\n",
              "    </tr>\n",
              "    <tr>\n",
              "      <th>Promo2</th>\n",
              "      <td>0</td>\n",
              "      <td>0.0000</td>\n",
              "    </tr>\n",
              "    <tr>\n",
              "      <th>Promo2SinceWeek</th>\n",
              "      <td>544</td>\n",
              "      <td>48.7892</td>\n",
              "    </tr>\n",
              "    <tr>\n",
              "      <th>Promo2SinceYear</th>\n",
              "      <td>544</td>\n",
              "      <td>48.7892</td>\n",
              "    </tr>\n",
              "    <tr>\n",
              "      <th>PromoInterval</th>\n",
              "      <td>544</td>\n",
              "      <td>48.7892</td>\n",
              "    </tr>\n",
              "  </tbody>\n",
              "</table>\n",
              "</div>"
            ],
            "text/plain": [
              "                           no. of missing values        %\n",
              "Store                                          0   0.0000\n",
              "StoreType                                      0   0.0000\n",
              "Assortment                                     0   0.0000\n",
              "CompetitionDistance                            3   0.2691\n",
              "CompetitionOpenSinceMonth                    354  31.7489\n",
              "CompetitionOpenSinceYear                     354  31.7489\n",
              "Promo2                                         0   0.0000\n",
              "Promo2SinceWeek                              544  48.7892\n",
              "Promo2SinceYear                              544  48.7892\n",
              "PromoInterval                                544  48.7892"
            ]
          },
          "metadata": {
            "tags": []
          },
          "execution_count": 12
        }
      ]
    },
    {
      "cell_type": "markdown",
      "metadata": {
        "id": "AgU87FAhyiff",
        "colab_type": "text"
      },
      "source": [
        "### Filling"
      ]
    },
    {
      "cell_type": "markdown",
      "metadata": {
        "id": "gpdHjtlOzUKV",
        "colab_type": "text"
      },
      "source": [
        "### 1) Test data:\n",
        "Since There are less no. of rows that have nan values we acan drop them"
      ]
    },
    {
      "cell_type": "code",
      "metadata": {
        "id": "l1SsH1AOze98",
        "colab_type": "code",
        "colab": {}
      },
      "source": [
        "df_test=df_test.dropna()"
      ],
      "execution_count": 13,
      "outputs": []
    },
    {
      "cell_type": "markdown",
      "metadata": {
        "id": "bGTTwjB5zzm3",
        "colab_type": "text"
      },
      "source": [
        "### 2) Store Data"
      ]
    },
    {
      "cell_type": "code",
      "metadata": {
        "id": "hGtq62Ly1Dh8",
        "colab_type": "code",
        "colab": {}
      },
      "source": [
        "df=df_store.copy()"
      ],
      "execution_count": 14,
      "outputs": []
    },
    {
      "cell_type": "markdown",
      "metadata": {
        "id": "ac0DEmDq8uvb",
        "colab_type": "text"
      },
      "source": [
        "#### 2.1) Filling up 'Promo2SinceWeek','Promo2SinceYear','PromoInterval' columns"
      ]
    },
    {
      "cell_type": "code",
      "metadata": {
        "id": "v0gZbW1V3oWI",
        "colab_type": "code",
        "colab": {
          "base_uri": "https://localhost:8080/",
          "height": 102
        },
        "outputId": "5b00a1f0-795c-427f-88ee-92ad328f7215"
      },
      "source": [
        "col3=['Promo2','Promo2SinceWeek','Promo2SinceYear','PromoInterval']\n",
        "df3=df[col3]\n",
        "print(df3.isnull().sum())"
      ],
      "execution_count": 15,
      "outputs": [
        {
          "output_type": "stream",
          "text": [
            "Promo2               0\n",
            "Promo2SinceWeek    544\n",
            "Promo2SinceYear    544\n",
            "PromoInterval      544\n",
            "dtype: int64\n"
          ],
          "name": "stdout"
        }
      ]
    },
    {
      "cell_type": "code",
      "metadata": {
        "id": "PBT2XmmZ30Tz",
        "colab_type": "code",
        "colab": {
          "base_uri": "https://localhost:8080/",
          "height": 102
        },
        "outputId": "46ee51c9-1136-440d-85a1-5854116aa3b5"
      },
      "source": [
        "print(df3[df3.Promo2==0].isnull().sum())"
      ],
      "execution_count": 16,
      "outputs": [
        {
          "output_type": "stream",
          "text": [
            "Promo2               0\n",
            "Promo2SinceWeek    544\n",
            "Promo2SinceYear    544\n",
            "PromoInterval      544\n",
            "dtype: int64\n"
          ],
          "name": "stdout"
        }
      ]
    },
    {
      "cell_type": "code",
      "metadata": {
        "id": "-2nbmJNz4CI7",
        "colab_type": "code",
        "colab": {
          "base_uri": "https://localhost:8080/",
          "height": 102
        },
        "outputId": "830a5dcb-3628-4dbb-a0d1-9a2ea5be92fd"
      },
      "source": [
        "print(df3[df3.Promo2==1].isnull().sum())"
      ],
      "execution_count": 17,
      "outputs": [
        {
          "output_type": "stream",
          "text": [
            "Promo2             0\n",
            "Promo2SinceWeek    0\n",
            "Promo2SinceYear    0\n",
            "PromoInterval      0\n",
            "dtype: int64\n"
          ],
          "name": "stdout"
        }
      ]
    },
    {
      "cell_type": "code",
      "metadata": {
        "id": "Xmq6XpoR4RBX",
        "colab_type": "code",
        "colab": {
          "base_uri": "https://localhost:8080/",
          "height": 119
        },
        "outputId": "18afcd25-72db-460d-ec95-127321f9d29e"
      },
      "source": [
        "print(df3[df3.Promo2==0].head())"
      ],
      "execution_count": 18,
      "outputs": [
        {
          "output_type": "stream",
          "text": [
            "   Promo2  Promo2SinceWeek  Promo2SinceYear PromoInterval\n",
            "0       0              NaN              NaN           NaN\n",
            "3       0              NaN              NaN           NaN\n",
            "4       0              NaN              NaN           NaN\n",
            "5       0              NaN              NaN           NaN\n",
            "6       0              NaN              NaN           NaN\n"
          ],
          "name": "stdout"
        }
      ]
    },
    {
      "cell_type": "code",
      "metadata": {
        "id": "ElI1fRzj4WTH",
        "colab_type": "code",
        "colab": {}
      },
      "source": [
        "df3=df3[df3.Promo2==0]\n",
        "df3.fillna('0',inplace=True)"
      ],
      "execution_count": 19,
      "outputs": []
    },
    {
      "cell_type": "code",
      "metadata": {
        "id": "5V-uiVMw7qKR",
        "colab_type": "code",
        "colab": {}
      },
      "source": [
        "#df[df.Promo2==0][col3]=df[df.Promo2==0][col3].fillna('0',inplace=True)"
      ],
      "execution_count": 20,
      "outputs": []
    },
    {
      "cell_type": "code",
      "metadata": {
        "id": "6KLUrlIv6Kd7",
        "colab_type": "code",
        "colab": {}
      },
      "source": [
        "for ind in df3.index:\n",
        "  df.loc[ind,col3[1:]]=0"
      ],
      "execution_count": 21,
      "outputs": []
    },
    {
      "cell_type": "code",
      "metadata": {
        "id": "4TWOAGh35MHB",
        "colab_type": "code",
        "colab": {
          "base_uri": "https://localhost:8080/",
          "height": 204
        },
        "outputId": "468fe835-06fd-4f90-ca5f-5a4248901c3f"
      },
      "source": [
        "print(df.isnull().sum())"
      ],
      "execution_count": 22,
      "outputs": [
        {
          "output_type": "stream",
          "text": [
            "Store                          0\n",
            "StoreType                      0\n",
            "Assortment                     0\n",
            "CompetitionDistance            3\n",
            "CompetitionOpenSinceMonth    354\n",
            "CompetitionOpenSinceYear     354\n",
            "Promo2                         0\n",
            "Promo2SinceWeek                0\n",
            "Promo2SinceYear                0\n",
            "PromoInterval                  0\n",
            "dtype: int64\n"
          ],
          "name": "stdout"
        }
      ]
    },
    {
      "cell_type": "markdown",
      "metadata": {
        "id": "cV5rn0d21mMP",
        "colab_type": "text"
      },
      "source": [
        "#### 2.2)filling up the 'CompetitionOpenSinceMonth','CompetitionOpenSinceYear','CompetitionDistance' column using mean and mediam"
      ]
    },
    {
      "cell_type": "markdown",
      "metadata": {
        "id": "iWrfiAdvPKKo",
        "colab_type": "text"
      },
      "source": [
        "##### 2.2.1)filling up the 'CompetitionOpenSinceMonth'"
      ]
    },
    {
      "cell_type": "code",
      "metadata": {
        "id": "z5xBkZVz1_Xd",
        "colab_type": "code",
        "colab": {}
      },
      "source": [
        "col1=['CompetitionDistance']"
      ],
      "execution_count": 24,
      "outputs": []
    },
    {
      "cell_type": "code",
      "metadata": {
        "id": "l1zehfcB00sN",
        "colab_type": "code",
        "colab": {
          "base_uri": "https://localhost:8080/",
          "height": 51
        },
        "outputId": "96698a0d-a5ec-45a5-fed1-afd4cbf42e0d"
      },
      "source": [
        "#1) filling up the missing in 'CompetitionDistance' column\n",
        "df1=df[col1] # 3 null values\n",
        "print(df1.isnull().sum())"
      ],
      "execution_count": 25,
      "outputs": [
        {
          "output_type": "stream",
          "text": [
            "CompetitionDistance    3\n",
            "dtype: int64\n"
          ],
          "name": "stdout"
        }
      ]
    },
    {
      "cell_type": "code",
      "metadata": {
        "id": "9JWTThoY1iSW",
        "colab_type": "code",
        "colab": {
          "base_uri": "https://localhost:8080/",
          "height": 136
        },
        "outputId": "04ef9019-3307-4ac4-859e-aaeb8cac77a1"
      },
      "source": [
        "imp_mean = SimpleImputer( strategy='mean') \n",
        "imp_mean.fit(df1)\n",
        "imputed_data = imp_mean.transform(df1)\n",
        "print(imputed_data)"
      ],
      "execution_count": 26,
      "outputs": [
        {
          "output_type": "stream",
          "text": [
            "[[ 1270.]\n",
            " [  570.]\n",
            " [14130.]\n",
            " ...\n",
            " [ 9260.]\n",
            " [  870.]\n",
            " [ 5350.]]\n"
          ],
          "name": "stdout"
        }
      ]
    },
    {
      "cell_type": "code",
      "metadata": {
        "id": "NnQq0tXsRvR5",
        "colab_type": "code",
        "colab": {
          "base_uri": "https://localhost:8080/",
          "height": 139
        },
        "outputId": "9fe4c5ff-fbfa-406d-d69e-b88e1b154484"
      },
      "source": [
        "#updating the dataset\n",
        "imputed_data=pd.DataFrame(data=imputed_data,columns=col1)\n",
        "df1[col1]=imputed_data[col1]\n",
        "\n",
        "#updating original df after filling values\n",
        "#df[col1]=df1[col1]"
      ],
      "execution_count": 27,
      "outputs": [
        {
          "output_type": "stream",
          "text": [
            "/usr/local/lib/python3.6/dist-packages/pandas/core/frame.py:2963: SettingWithCopyWarning: \n",
            "A value is trying to be set on a copy of a slice from a DataFrame.\n",
            "Try using .loc[row_indexer,col_indexer] = value instead\n",
            "\n",
            "See the caveats in the documentation: https://pandas.pydata.org/pandas-docs/stable/user_guide/indexing.html#returning-a-view-versus-a-copy\n",
            "  self[k1] = value[k2]\n"
          ],
          "name": "stderr"
        }
      ]
    },
    {
      "cell_type": "code",
      "metadata": {
        "id": "gxoNk-Wi2hF1",
        "colab_type": "code",
        "colab": {
          "base_uri": "https://localhost:8080/",
          "height": 51
        },
        "outputId": "7433f3b0-d7ba-430e-8f15-bff81b0c929d"
      },
      "source": [
        "#'CompetitionDistance' filled  \n",
        "print(df1.isnull().sum())"
      ],
      "execution_count": 28,
      "outputs": [
        {
          "output_type": "stream",
          "text": [
            "CompetitionDistance    0\n",
            "dtype: int64\n"
          ],
          "name": "stdout"
        }
      ]
    },
    {
      "cell_type": "markdown",
      "metadata": {
        "id": "YbCrDk5c25el",
        "colab_type": "text"
      },
      "source": [
        "##### 2.2.2) Filling up 'CompetitionOpenSinceMonth','CompetitionOpenSinceYear' *column*"
      ]
    },
    {
      "cell_type": "code",
      "metadata": {
        "id": "UAbaZGfs3Aor",
        "colab_type": "code",
        "colab": {
          "base_uri": "https://localhost:8080/",
          "height": 68
        },
        "outputId": "6f1b1efa-251a-4f53-d7c5-65a7e00d2032"
      },
      "source": [
        "col2=['CompetitionOpenSinceMonth','CompetitionOpenSinceYear']\n",
        "df2=df[col2]\n",
        "df2.isnull().sum()"
      ],
      "execution_count": 29,
      "outputs": [
        {
          "output_type": "execute_result",
          "data": {
            "text/plain": [
              "CompetitionOpenSinceMonth    354\n",
              "CompetitionOpenSinceYear     354\n",
              "dtype: int64"
            ]
          },
          "metadata": {
            "tags": []
          },
          "execution_count": 29
        }
      ]
    },
    {
      "cell_type": "code",
      "metadata": {
        "id": "BBfd4Y-v3QY1",
        "colab_type": "code",
        "colab": {}
      },
      "source": [
        "imp_median = SimpleImputer( strategy='median') \n",
        "imp_median.fit(df2)\n",
        "imputed_data = imp_median.transform(df2)"
      ],
      "execution_count": 30,
      "outputs": []
    },
    {
      "cell_type": "code",
      "metadata": {
        "id": "W9_gi6YL3YYm",
        "colab_type": "code",
        "colab": {
          "base_uri": "https://localhost:8080/",
          "height": 139
        },
        "outputId": "3cf3e7a1-14f7-42e4-8500-9fe0767db82d"
      },
      "source": [
        "#updating the dataset\n",
        "imputed_data=pd.DataFrame(data=imputed_data,columns=col2)\n",
        "df2[col2]=imputed_data[col2]\n",
        "\n",
        "#updating original df after filling values\n",
        "#df[col2]=df1[col2]"
      ],
      "execution_count": 31,
      "outputs": [
        {
          "output_type": "stream",
          "text": [
            "/usr/local/lib/python3.6/dist-packages/pandas/core/frame.py:2963: SettingWithCopyWarning: \n",
            "A value is trying to be set on a copy of a slice from a DataFrame.\n",
            "Try using .loc[row_indexer,col_indexer] = value instead\n",
            "\n",
            "See the caveats in the documentation: https://pandas.pydata.org/pandas-docs/stable/user_guide/indexing.html#returning-a-view-versus-a-copy\n",
            "  self[k1] = value[k2]\n"
          ],
          "name": "stderr"
        }
      ]
    },
    {
      "cell_type": "markdown",
      "metadata": {
        "id": "VByozfRXGRHw",
        "colab_type": "text"
      },
      "source": [
        "#### 2.3)filling up the 'CompetitionOpenSinceMonth','CompetitionOpenSinceYear','CompetitionDistance' column using Imputer"
      ]
    },
    {
      "cell_type": "code",
      "metadata": {
        "id": "VLrrRpFyJjuE",
        "colab_type": "code",
        "colab": {
          "base_uri": "https://localhost:8080/",
          "height": 204
        },
        "outputId": "6dc6608e-f6cd-4992-9386-e419e5f01ec4"
      },
      "source": [
        "df_temp=df.copy()\n",
        "df_temp[col1]=df1[col1]\n",
        "df_temp[col2]=df2[col2]\n",
        "df_temp.isnull().sum()"
      ],
      "execution_count": 32,
      "outputs": [
        {
          "output_type": "execute_result",
          "data": {
            "text/plain": [
              "Store                        0\n",
              "StoreType                    0\n",
              "Assortment                   0\n",
              "CompetitionDistance          0\n",
              "CompetitionOpenSinceMonth    0\n",
              "CompetitionOpenSinceYear     0\n",
              "Promo2                       0\n",
              "Promo2SinceWeek              0\n",
              "Promo2SinceYear              0\n",
              "PromoInterval                0\n",
              "dtype: int64"
            ]
          },
          "metadata": {
            "tags": []
          },
          "execution_count": 32
        }
      ]
    },
    {
      "cell_type": "code",
      "metadata": {
        "id": "uVdOg-La9q5q",
        "colab_type": "code",
        "colab": {
          "base_uri": "https://localhost:8080/",
          "height": 224
        },
        "outputId": "b1927564-0440-432e-9ad7-28550b0bdc80"
      },
      "source": [
        "#merging data for imputer \n",
        "df_train_store=pd.merge(df_train, df, how = 'inner', on = 'Store')\n",
        "\n",
        "#rearranging columns\n",
        "new_indices=['Store', 'DayOfWeek', 'Date', 'Customers', 'Open', 'Promo',\n",
        "       'StateHoliday', 'SchoolHoliday', 'StoreType', 'Assortment',\n",
        "       'CompetitionDistance', 'CompetitionOpenSinceMonth',\n",
        "       'CompetitionOpenSinceYear', 'Promo2', 'Promo2SinceWeek',\n",
        "       'Promo2SinceYear', 'PromoInterval','Sales']\n",
        "df_train_store=df_train_store[new_indices]\n",
        "\n",
        "#droping categorical/object columns\n",
        "df_train_store.drop(['Date','StoreType','Assortment','PromoInterval','StateHoliday'],axis=1,inplace=True)\n",
        "\n",
        "df_train_store.head()"
      ],
      "execution_count": 33,
      "outputs": [
        {
          "output_type": "execute_result",
          "data": {
            "text/html": [
              "<div>\n",
              "<style scoped>\n",
              "    .dataframe tbody tr th:only-of-type {\n",
              "        vertical-align: middle;\n",
              "    }\n",
              "\n",
              "    .dataframe tbody tr th {\n",
              "        vertical-align: top;\n",
              "    }\n",
              "\n",
              "    .dataframe thead th {\n",
              "        text-align: right;\n",
              "    }\n",
              "</style>\n",
              "<table border=\"1\" class=\"dataframe\">\n",
              "  <thead>\n",
              "    <tr style=\"text-align: right;\">\n",
              "      <th></th>\n",
              "      <th>Store</th>\n",
              "      <th>DayOfWeek</th>\n",
              "      <th>Customers</th>\n",
              "      <th>Open</th>\n",
              "      <th>Promo</th>\n",
              "      <th>SchoolHoliday</th>\n",
              "      <th>CompetitionDistance</th>\n",
              "      <th>CompetitionOpenSinceMonth</th>\n",
              "      <th>CompetitionOpenSinceYear</th>\n",
              "      <th>Promo2</th>\n",
              "      <th>Promo2SinceWeek</th>\n",
              "      <th>Promo2SinceYear</th>\n",
              "      <th>Sales</th>\n",
              "    </tr>\n",
              "  </thead>\n",
              "  <tbody>\n",
              "    <tr>\n",
              "      <th>0</th>\n",
              "      <td>1</td>\n",
              "      <td>5</td>\n",
              "      <td>555</td>\n",
              "      <td>1</td>\n",
              "      <td>1</td>\n",
              "      <td>1</td>\n",
              "      <td>1270.0</td>\n",
              "      <td>9.0</td>\n",
              "      <td>2008.0</td>\n",
              "      <td>0</td>\n",
              "      <td>0.0</td>\n",
              "      <td>0.0</td>\n",
              "      <td>5263</td>\n",
              "    </tr>\n",
              "    <tr>\n",
              "      <th>1</th>\n",
              "      <td>1</td>\n",
              "      <td>4</td>\n",
              "      <td>546</td>\n",
              "      <td>1</td>\n",
              "      <td>1</td>\n",
              "      <td>1</td>\n",
              "      <td>1270.0</td>\n",
              "      <td>9.0</td>\n",
              "      <td>2008.0</td>\n",
              "      <td>0</td>\n",
              "      <td>0.0</td>\n",
              "      <td>0.0</td>\n",
              "      <td>5020</td>\n",
              "    </tr>\n",
              "    <tr>\n",
              "      <th>2</th>\n",
              "      <td>1</td>\n",
              "      <td>3</td>\n",
              "      <td>523</td>\n",
              "      <td>1</td>\n",
              "      <td>1</td>\n",
              "      <td>1</td>\n",
              "      <td>1270.0</td>\n",
              "      <td>9.0</td>\n",
              "      <td>2008.0</td>\n",
              "      <td>0</td>\n",
              "      <td>0.0</td>\n",
              "      <td>0.0</td>\n",
              "      <td>4782</td>\n",
              "    </tr>\n",
              "    <tr>\n",
              "      <th>3</th>\n",
              "      <td>1</td>\n",
              "      <td>2</td>\n",
              "      <td>560</td>\n",
              "      <td>1</td>\n",
              "      <td>1</td>\n",
              "      <td>1</td>\n",
              "      <td>1270.0</td>\n",
              "      <td>9.0</td>\n",
              "      <td>2008.0</td>\n",
              "      <td>0</td>\n",
              "      <td>0.0</td>\n",
              "      <td>0.0</td>\n",
              "      <td>5011</td>\n",
              "    </tr>\n",
              "    <tr>\n",
              "      <th>4</th>\n",
              "      <td>1</td>\n",
              "      <td>1</td>\n",
              "      <td>612</td>\n",
              "      <td>1</td>\n",
              "      <td>1</td>\n",
              "      <td>1</td>\n",
              "      <td>1270.0</td>\n",
              "      <td>9.0</td>\n",
              "      <td>2008.0</td>\n",
              "      <td>0</td>\n",
              "      <td>0.0</td>\n",
              "      <td>0.0</td>\n",
              "      <td>6102</td>\n",
              "    </tr>\n",
              "  </tbody>\n",
              "</table>\n",
              "</div>"
            ],
            "text/plain": [
              "   Store  DayOfWeek  Customers  ...  Promo2SinceWeek  Promo2SinceYear  Sales\n",
              "0      1          5        555  ...              0.0              0.0   5263\n",
              "1      1          4        546  ...              0.0              0.0   5020\n",
              "2      1          3        523  ...              0.0              0.0   4782\n",
              "3      1          2        560  ...              0.0              0.0   5011\n",
              "4      1          1        612  ...              0.0              0.0   6102\n",
              "\n",
              "[5 rows x 13 columns]"
            ]
          },
          "metadata": {
            "tags": []
          },
          "execution_count": 33
        }
      ]
    },
    {
      "cell_type": "code",
      "metadata": {
        "id": "JYTHbe3kfRWZ",
        "colab_type": "code",
        "colab": {}
      },
      "source": [
        "X=df_train_store.iloc[:,:-1]\n",
        "y=df_train_store.iloc[:,-1]\n",
        "impute_estimator = BayesianRidge()\n",
        "br_estimator = BayesianRidge()\n",
        "N_SPLITS=5\n",
        "score_iterative_imputer = pd.DataFrame()\n",
        "\n",
        "estimator = make_pipeline(\n",
        "        IterativeImputer(random_state=0, estimator=impute_estimator),\n",
        "        br_estimator\n",
        "    )\n",
        "score_iterative_imputer[impute_estimator.__class__.__name__] = \\\n",
        "    cross_val_score(\n",
        "        estimator, X, y, scoring='neg_mean_squared_error',\n",
        "        cv=N_SPLITS\n",
        "    )"
      ],
      "execution_count": 34,
      "outputs": []
    },
    {
      "cell_type": "markdown",
      "metadata": {
        "id": "0uUAKKcFQT2p",
        "colab_type": "text"
      },
      "source": [
        "#### 2.4)Comapring Filling Method"
      ]
    },
    {
      "cell_type": "code",
      "metadata": {
        "id": "FceQbxvlB76Z",
        "colab_type": "code",
        "colab": {
          "base_uri": "https://localhost:8080/",
          "height": 224
        },
        "outputId": "54a2a1ac-be10-4eff-8c25-3cebd376e0be"
      },
      "source": [
        "#merging data i.e filled by mean & median\n",
        "\n",
        "df_train_store=pd.merge(df_train, df_temp, how = 'inner', on = 'Store')\n",
        "new_indices=['Store', 'DayOfWeek', 'Date', 'Customers', 'Open', 'Promo',\n",
        "       'StateHoliday', 'SchoolHoliday', 'StoreType', 'Assortment',\n",
        "       'CompetitionDistance', 'CompetitionOpenSinceMonth',\n",
        "       'CompetitionOpenSinceYear', 'Promo2', 'Promo2SinceWeek',\n",
        "       'Promo2SinceYear', 'PromoInterval','Sales']\n",
        "df_train_store=df_train_store[new_indices]\n",
        "df_train_store.drop(['Date','StoreType','Assortment','PromoInterval','StateHoliday'],axis=1,inplace=True)\n",
        "\n",
        "df_train_store.head()"
      ],
      "execution_count": 35,
      "outputs": [
        {
          "output_type": "execute_result",
          "data": {
            "text/html": [
              "<div>\n",
              "<style scoped>\n",
              "    .dataframe tbody tr th:only-of-type {\n",
              "        vertical-align: middle;\n",
              "    }\n",
              "\n",
              "    .dataframe tbody tr th {\n",
              "        vertical-align: top;\n",
              "    }\n",
              "\n",
              "    .dataframe thead th {\n",
              "        text-align: right;\n",
              "    }\n",
              "</style>\n",
              "<table border=\"1\" class=\"dataframe\">\n",
              "  <thead>\n",
              "    <tr style=\"text-align: right;\">\n",
              "      <th></th>\n",
              "      <th>Store</th>\n",
              "      <th>DayOfWeek</th>\n",
              "      <th>Customers</th>\n",
              "      <th>Open</th>\n",
              "      <th>Promo</th>\n",
              "      <th>SchoolHoliday</th>\n",
              "      <th>CompetitionDistance</th>\n",
              "      <th>CompetitionOpenSinceMonth</th>\n",
              "      <th>CompetitionOpenSinceYear</th>\n",
              "      <th>Promo2</th>\n",
              "      <th>Promo2SinceWeek</th>\n",
              "      <th>Promo2SinceYear</th>\n",
              "      <th>Sales</th>\n",
              "    </tr>\n",
              "  </thead>\n",
              "  <tbody>\n",
              "    <tr>\n",
              "      <th>0</th>\n",
              "      <td>1</td>\n",
              "      <td>5</td>\n",
              "      <td>555</td>\n",
              "      <td>1</td>\n",
              "      <td>1</td>\n",
              "      <td>1</td>\n",
              "      <td>1270.0</td>\n",
              "      <td>9.0</td>\n",
              "      <td>2008.0</td>\n",
              "      <td>0</td>\n",
              "      <td>0.0</td>\n",
              "      <td>0.0</td>\n",
              "      <td>5263</td>\n",
              "    </tr>\n",
              "    <tr>\n",
              "      <th>1</th>\n",
              "      <td>1</td>\n",
              "      <td>4</td>\n",
              "      <td>546</td>\n",
              "      <td>1</td>\n",
              "      <td>1</td>\n",
              "      <td>1</td>\n",
              "      <td>1270.0</td>\n",
              "      <td>9.0</td>\n",
              "      <td>2008.0</td>\n",
              "      <td>0</td>\n",
              "      <td>0.0</td>\n",
              "      <td>0.0</td>\n",
              "      <td>5020</td>\n",
              "    </tr>\n",
              "    <tr>\n",
              "      <th>2</th>\n",
              "      <td>1</td>\n",
              "      <td>3</td>\n",
              "      <td>523</td>\n",
              "      <td>1</td>\n",
              "      <td>1</td>\n",
              "      <td>1</td>\n",
              "      <td>1270.0</td>\n",
              "      <td>9.0</td>\n",
              "      <td>2008.0</td>\n",
              "      <td>0</td>\n",
              "      <td>0.0</td>\n",
              "      <td>0.0</td>\n",
              "      <td>4782</td>\n",
              "    </tr>\n",
              "    <tr>\n",
              "      <th>3</th>\n",
              "      <td>1</td>\n",
              "      <td>2</td>\n",
              "      <td>560</td>\n",
              "      <td>1</td>\n",
              "      <td>1</td>\n",
              "      <td>1</td>\n",
              "      <td>1270.0</td>\n",
              "      <td>9.0</td>\n",
              "      <td>2008.0</td>\n",
              "      <td>0</td>\n",
              "      <td>0.0</td>\n",
              "      <td>0.0</td>\n",
              "      <td>5011</td>\n",
              "    </tr>\n",
              "    <tr>\n",
              "      <th>4</th>\n",
              "      <td>1</td>\n",
              "      <td>1</td>\n",
              "      <td>612</td>\n",
              "      <td>1</td>\n",
              "      <td>1</td>\n",
              "      <td>1</td>\n",
              "      <td>1270.0</td>\n",
              "      <td>9.0</td>\n",
              "      <td>2008.0</td>\n",
              "      <td>0</td>\n",
              "      <td>0.0</td>\n",
              "      <td>0.0</td>\n",
              "      <td>6102</td>\n",
              "    </tr>\n",
              "  </tbody>\n",
              "</table>\n",
              "</div>"
            ],
            "text/plain": [
              "   Store  DayOfWeek  Customers  ...  Promo2SinceWeek  Promo2SinceYear  Sales\n",
              "0      1          5        555  ...              0.0              0.0   5263\n",
              "1      1          4        546  ...              0.0              0.0   5020\n",
              "2      1          3        523  ...              0.0              0.0   4782\n",
              "3      1          2        560  ...              0.0              0.0   5011\n",
              "4      1          1        612  ...              0.0              0.0   6102\n",
              "\n",
              "[5 rows x 13 columns]"
            ]
          },
          "metadata": {
            "tags": []
          },
          "execution_count": 35
        }
      ]
    },
    {
      "cell_type": "code",
      "metadata": {
        "id": "8fFM-3oiHwVM",
        "colab_type": "code",
        "colab": {}
      },
      "source": [
        "X=df_train_store.iloc[:,:-1]\n",
        "y=df_train_store.iloc[:,-1]\n",
        "score_iterative_imputer['mean_mediam'] = cross_val_score(\n",
        "        estimator, X, y, scoring='neg_mean_squared_error',\n",
        "        cv=N_SPLITS\n",
        "    )"
      ],
      "execution_count": 36,
      "outputs": []
    },
    {
      "cell_type": "code",
      "metadata": {
        "id": "3Ge1DP6jFVzb",
        "colab_type": "code",
        "colab": {
          "base_uri": "https://localhost:8080/",
          "height": 204
        },
        "outputId": "63c14d10-c4c3-4399-9882-c0016a6d4a32"
      },
      "source": [
        "score_iterative_imputer"
      ],
      "execution_count": 37,
      "outputs": [
        {
          "output_type": "execute_result",
          "data": {
            "text/html": [
              "<div>\n",
              "<style scoped>\n",
              "    .dataframe tbody tr th:only-of-type {\n",
              "        vertical-align: middle;\n",
              "    }\n",
              "\n",
              "    .dataframe tbody tr th {\n",
              "        vertical-align: top;\n",
              "    }\n",
              "\n",
              "    .dataframe thead th {\n",
              "        text-align: right;\n",
              "    }\n",
              "</style>\n",
              "<table border=\"1\" class=\"dataframe\">\n",
              "  <thead>\n",
              "    <tr style=\"text-align: right;\">\n",
              "      <th></th>\n",
              "      <th>BayesianRidge</th>\n",
              "      <th>mean_mediam</th>\n",
              "    </tr>\n",
              "  </thead>\n",
              "  <tbody>\n",
              "    <tr>\n",
              "      <th>0</th>\n",
              "      <td>-1.575878e+06</td>\n",
              "      <td>-1.573655e+06</td>\n",
              "    </tr>\n",
              "    <tr>\n",
              "      <th>1</th>\n",
              "      <td>-2.164219e+06</td>\n",
              "      <td>-2.163217e+06</td>\n",
              "    </tr>\n",
              "    <tr>\n",
              "      <th>2</th>\n",
              "      <td>-1.907552e+06</td>\n",
              "      <td>-1.909207e+06</td>\n",
              "    </tr>\n",
              "    <tr>\n",
              "      <th>3</th>\n",
              "      <td>-3.053574e+06</td>\n",
              "      <td>-3.052719e+06</td>\n",
              "    </tr>\n",
              "    <tr>\n",
              "      <th>4</th>\n",
              "      <td>-2.052256e+06</td>\n",
              "      <td>-2.055388e+06</td>\n",
              "    </tr>\n",
              "  </tbody>\n",
              "</table>\n",
              "</div>"
            ],
            "text/plain": [
              "   BayesianRidge   mean_mediam\n",
              "0  -1.575878e+06 -1.573655e+06\n",
              "1  -2.164219e+06 -2.163217e+06\n",
              "2  -1.907552e+06 -1.909207e+06\n",
              "3  -3.053574e+06 -3.052719e+06\n",
              "4  -2.052256e+06 -2.055388e+06"
            ]
          },
          "metadata": {
            "tags": []
          },
          "execution_count": 37
        }
      ]
    },
    {
      "cell_type": "code",
      "metadata": {
        "id": "3pYb2xRFGB0l",
        "colab_type": "code",
        "colab": {
          "base_uri": "https://localhost:8080/",
          "height": 371
        },
        "outputId": "9189a022-51b2-479e-b2b1-25223b132105"
      },
      "source": [
        "#plotting results\n",
        "scores=score_iterative_imputer\n",
        "fig, ax = plt.subplots(figsize=(6, 5))\n",
        "means = -scores.mean()\n",
        "errors = scores.std()\n",
        "means.plot.barh(xerr=errors, ax=ax)\n",
        "ax.set_title('Imputation Methods: Bayesian and Mean & Medium')\n",
        "ax.set_xlabel('MSE (smaller is better)')\n",
        "ax.set_yticks(np.arange(means.shape[0]))\n",
        "ax.set_yticklabels(score_iterative_imputer.columns)\n",
        "plt.tight_layout(pad=1)\n",
        "plt.show()"
      ],
      "execution_count": 38,
      "outputs": [
        {
          "output_type": "display_data",
          "data": {
            "image/png": "[encoded data removed]",
            "text/plain": [
              "<Figure size 432x360 with 1 Axes>"
            ]
          },
          "metadata": {
            "tags": [],
            "needs_background": "light"
          }
        }
      ]
    },
    {
      "cell_type": "markdown",
      "metadata": {
        "id": "sMSnFndpGB-4",
        "colab_type": "text"
      },
      "source": [
        "1)\n",
        "CompetitionDistance as mean\n",
        "CompetitionOpenSinceMonth as median\n",
        "CompetitionOpenSinceYear as median\n",
        "\n",
        "2)\n",
        "CompetitionDistance,CompetitionOpenSinceMonth,CompetitionOpenSinceYear as Itertive imputer \n",
        "\n",
        "3)Promo2SinceWeek,Promo2SinceYear, PromoInterval = 0 when Promo2==0"
      ]
    },
    {
      "cell_type": "code",
      "metadata": {
        "id": "ZUPfgKkHGCVu",
        "colab_type": "code",
        "colab": {}
      },
      "source": [
        ""
      ],
      "execution_count": 38,
      "outputs": []
    }
  ]
}